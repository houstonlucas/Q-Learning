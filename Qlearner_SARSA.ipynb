{
 "cells": [
  {
   "cell_type": "markdown",
   "metadata": {},
   "source": [
    "Markov Decision Process (MDP)\n",
    "===\n",
    "<ul>\n",
    "<li>States</li>\n",
    "</ul>\n",
    "\n",
    "\n",
    "Actions\n",
    "\n",
    "Rewards\n",
    "\n",
    "Probabilities\n",
    "\n",
    "Gamma"
   ]
  },
  {
   "cell_type": "code",
   "execution_count": 27,
   "metadata": {
    "collapsed": true
   },
   "outputs": [],
   "source": [
    "import random\n",
    "import numpy as np\n",
    "from numpy.random import choice"
   ]
  },
  {
   "cell_type": "code",
   "execution_count": 28,
   "metadata": {
    "collapsed": true
   },
   "outputs": [],
   "source": [
    "def normalizedList(size):\n",
    "    l = [random.random() for i in range(size)]\n",
    "    s = sum(l)\n",
    "    lnorm = [x/s for x in l]\n",
    "    return lnorm"
   ]
  },
  {
   "cell_type": "code",
   "execution_count": 29,
   "metadata": {
    "collapsed": false
   },
   "outputs": [],
   "source": [
    "class MDP:\n",
    "    \n",
    "    def __init__(self, numStates, numActions, gamma = 0.9):\n",
    "        self.rewards = { (s,a,sNext) : random.randint(-20,20) \\\n",
    "                            for s in range(numStates) \\\n",
    "                            for a in range(numActions) \\\n",
    "                            for sNext in range(numStates)}\n",
    "        self.probs = [[normalizedList(numStates) \\\n",
    "                       for a in range(numActions)] \\\n",
    "                       for s in range(numStates)]\n",
    "        self.states = range(numStates)\n",
    "        self.state = 0\n",
    "        self.gamma = gamma\n",
    "        self.numStates = numStates\n",
    "        self.numActions = numActions\n",
    "    \n",
    "    def takeAction(self, action):\n",
    "        sNext = choice( self.states, p = self.probs[self.state][action])\n",
    "        reward = self.rewards[ (self.state, action, sNext) ]\n",
    "        self.state = sNext\n",
    "        return reward"
   ]
  },
  {
   "cell_type": "code",
   "execution_count": 30,
   "metadata": {
    "collapsed": true
   },
   "outputs": [],
   "source": [
    "class Qlearner():\n",
    "    def __init__(self, mdp, alpha = 0.1):\n",
    "        self.q = np.random.rand(mdp.numStates, mdp.numActions)\n",
    "        self.alpha = alpha\n",
    "        self.mdp = mdp\n",
    "        self.score = 0\n",
    "        self.prevAction = 0\n",
    "    \n",
    "    def explore(self):\n",
    "        \"\"\"\"Take random action and learn from them\"\"\"\n",
    "        #Redundant, use exploit\n",
    "        \n",
    "        # Save reward, gamma from mdp, S_t a_t, S_t+1\n",
    "        #Save current state\n",
    "        prevState = self.mdp.state\n",
    "        #Take a random action\n",
    "        randAction = np.choice(range(self.numActions)) # Picks a random value from array\n",
    "        reward = self.mdp.takeAction(randAction)\n",
    "        self.q[prevState, randAction] = self.q[prevState, randAction] + self.alpha*(reward + \\\n",
    "                                     self.mdp.gamma*np.max(self.q[self.mdp.state]) - self.q[prevState, randAction])\n",
    "        \n",
    "    def exploit(self, epsilon = 0.1):\n",
    "        \"\"\"\"Figure out what to do based upon value function\"\"\"\n",
    "        random = np.random.random()\n",
    "        prevState = self.mdp.state\n",
    "        #Epsilon greedy\n",
    "        if(random < epsilon):\n",
    "            #Behave randomly\n",
    "            actionTaken = choice(range(self.mdp.numActions)) # Picks a random value from array\n",
    "            \n",
    "        else:\n",
    "            actionTaken = np.argmax(self.q[self.mdp.state])\n",
    "            # print(actionTaken)\n",
    "        \n",
    "        reward = self.mdp.takeAction(actionTaken)\n",
    "        self.score += reward\n",
    "        self.q[prevState][actionTaken] += self.alpha*(reward + self.mdp.gamma*(self.q[self.mdp.state][actionTaken]) \\\n",
    "                                                      - self.q[prevState][self.prevAction])\n",
    "        self.prevAction = actionTaken\n",
    "        \n",
    "        return reward\n",
    "            \n",
    "        \n",
    "    "
   ]
  },
  {
   "cell_type": "code",
   "execution_count": 31,
   "metadata": {
    "collapsed": false
   },
   "outputs": [
    {
     "name": "stdout",
     "output_type": "stream",
     "text": [
      "4456\n",
      "7735\n"
     ]
    }
   ],
   "source": [
    "mdp = MDP(2,2)\n",
    "\n",
    "qlearner = Qlearner(mdp)\n",
    "\n",
    "for i in range(1000):\n",
    "    rew = qlearner.exploit(epsilon=1)\n",
    "    \n",
    "print(qlearner.score)\n",
    "\n",
    "qlearner.score = 0\n",
    "\n",
    "for i in range(1000):\n",
    "    rew = qlearner.exploit(epsilon=0.01)\n",
    "    \n",
    "print(qlearner.score)\n",
    "\n",
    "# rew = qlearner.exploit()\n",
    "# print(rew)"
   ]
  },
  {
   "cell_type": "markdown",
   "metadata": {
    "collapsed": true
   },
   "source": [
    "Next Step\n",
    " * Apply this to openAI gym\n",
    " * SARSA - State action reward state action - policy based\n",
    " * Look at continuous space problems and apply SARSA/Q-learning by making a discrete model\n",
    " * Look at continuous state and action spaces (i.e. CEM, Policy Gradient)"
   ]
  },
  {
   "cell_type": "code",
   "execution_count": null,
   "metadata": {
    "collapsed": true
   },
   "outputs": [],
   "source": []
  }
 ],
 "metadata": {
  "kernelspec": {
   "display_name": "Python 2",
   "language": "python",
   "name": "python2"
  },
  "language_info": {
   "codemirror_mode": {
    "name": "ipython",
    "version": 2
   },
   "file_extension": ".py",
   "mimetype": "text/x-python",
   "name": "python",
   "nbconvert_exporter": "python",
   "pygments_lexer": "ipython2",
   "version": "2.7.6"
  }
 },
 "nbformat": 4,
 "nbformat_minor": 0
}
