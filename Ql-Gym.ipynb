{
 "cells": [
  {
   "cell_type": "code",
   "execution_count": null,
   "metadata": {
    "collapsed": false
   },
   "outputs": [],
   "source": [
    "import gym\n",
    "import time\n",
    "import random\n",
    "import numpy as np"
   ]
  },
  {
   "cell_type": "code",
   "execution_count": 14,
   "metadata": {
    "collapsed": false
   },
   "outputs": [],
   "source": [
    "class Qlearner():\n",
    "    def __init__(self, env, alpha = 0.01, gamma = 0.1):        \n",
    "        self.numStates = env.observation_space.n\n",
    "        self.numActions = env.action_space.n\n",
    "        self.q = [ [0.0]*self.numActions for i in range(self.numStates) ]\n",
    "        \n",
    "        self.state = 0\n",
    "        self.prevState = 0\n",
    "        self.alpha = alpha\n",
    "        self.gamma = gamma\n",
    "        self.env = env\n",
    "        self.env.reset()\n",
    "        self.score = 0\n",
    "        \n",
    "    def fromFile(self, fName):\n",
    "        f = open(fName, \"r\")\n",
    "        qstr = f.readline().strip(\"\\n\")\n",
    "        self.q = eval(qstr)\n",
    "        self.q = np.asarray(eval(qstr))\n",
    "        f.close()\n",
    "        \n",
    "    def toFile(self, fName):\n",
    "        f = open(fName, 'w+')\n",
    "        f.write(str(self.q) + \"\\n\")\n",
    "        f.close()\n",
    "    \n",
    "    def exploit(self, epsilon = 0.1, kill = False):\n",
    "        \"\"\"\"Figure out what to do based upon value function\"\"\"\n",
    "        random = np.random.random()\n",
    "        self.prevState = self.state\n",
    "\n",
    "        #Epsilon greedy\n",
    "        if(random < epsilon):\n",
    "            #Behave randomly\n",
    "            actionTaken = self.env.action_space.sample() # Picks a random action\n",
    "        else:\n",
    "            #Behave optimally\n",
    "            actionTaken = np.argmax(self.q[self.state])\n",
    "        state, reward, done, inf = self.env.step(actionTaken)\n",
    "        self.state = state\n",
    "                \n",
    "#         Negative reward for falling in hole.\n",
    "#         if done and reward == 0:\n",
    "#             reward = -1\n",
    "            \n",
    "        reward -= 0.1\n",
    "        self.score += reward\n",
    "        \n",
    "        #Update Q(s_t,a_t)\n",
    "        Qlearned = reward + self.gamma*np.max(self.q[self.state])\n",
    "        self.q[self.prevState][actionTaken] += self.alpha*( Qlearned- self.q[self.prevState][actionTaken])\n",
    "        \n",
    "        return reward, done\n",
    "    \n",
    "    \n",
    "    #Only works with FrozenLake 4x4\n",
    "    def visualize(self):\n",
    "        dirs = ['<', 'v', '>', '^']\n",
    "        for i in range(4):\n",
    "            row = \"\"\n",
    "            for j in range(4):\n",
    "                c = np.argmax(self.q[i*4 + j])\n",
    "                row += dirs[c]\n",
    "            print(row)"
   ]
  },
  {
   "cell_type": "code",
   "execution_count": null,
   "metadata": {
    "collapsed": false
   },
   "outputs": [],
   "source": [
    "envName = 'FrozenLake-v0'\n",
    "env = gym.make(envName)\n",
    "start = time.time()\n",
    "ql = Qlearner(env, gamma = 0.99)\n",
    "\n",
    "#Loads previous matrix from file into the Q-learner\n",
    "# ql.fromFile(envName)\n",
    "\n",
    "runTime = 60*0.01\n",
    "start = time.time()\n",
    "itters = 0\n",
    "\n",
    "while time.time() - start < runTime:\n",
    "    done = False\n",
    "    ql.env.reset()\n",
    "    t = 1\n",
    "    kill = False\n",
    "    while not done:\n",
    "        if t > 1000:\n",
    "            kill = True\n",
    "        rew, done = ql.exploit(1.0)\n",
    "        t += 1\n",
    "    \n",
    "    itters += 1\n",
    "print(\"Itterations completed: {}\".format(itters))\n",
    "print(ql.score/itters)\n",
    "\n",
    "ql.score = 0.0\n",
    "testItters = 10\n",
    "for i in range(testItters):\n",
    "    done = False\n",
    "    ql.env.reset()\n",
    "    t = 1\n",
    "    while not done:\n",
    "        t += 1\n",
    "        rew, done = ql.exploit(0.0)\n",
    "        if t > 1000:\n",
    "            done = True\n",
    "            \n",
    "print(ql.score/testItters)\n",
    "ql.toFile(envName)\n"
   ]
  },
  {
   "cell_type": "code",
   "execution_count": null,
   "metadata": {
    "collapsed": false
   },
   "outputs": [],
   "source": [
    "env = gym.make(envName)\n",
    "ql = Qlearner(env)\n",
    "ql.fromFile(envName)\n",
    "\n",
    "done = False\n",
    "t = 0\n",
    "\n",
    "while not done:\n",
    "    rew, done = ql.exploit(0.0)\n",
    "    ql.env.render()\n",
    "    if t > 1000:\n",
    "        done = True\n",
    "    \n",
    "print(ql.score)\n"
   ]
  },
  {
   "cell_type": "code",
   "execution_count": 17,
   "metadata": {
    "collapsed": false
   },
   "outputs": [
    {
     "name": "stderr",
     "output_type": "stream",
     "text": [
      "[2016-08-11 19:14:09,561] Making new env: FrozenLake-v0\n"
     ]
    },
    {
     "name": "stdout",
     "output_type": "stream",
     "text": [
      "Loaded\n",
      "\u001b[41mS\u001b[0mFFF\n",
      "FHFH\n",
      "FFFH\n",
      "HFFG\n",
      "  (Right)\n",
      "SFFF\n",
      "\u001b[41mF\u001b[0mHFH\n",
      "FFFH\n",
      "HFFG\n",
      "  (Right)\n",
      "SFFF\n",
      "FHFH\n",
      "\u001b[41mF\u001b[0mFFH\n",
      "HFFG\n",
      "  (Down)\n",
      "SFFF\n",
      "FHFH\n",
      "F\u001b[41mF\u001b[0mFH\n",
      "HFFG\n",
      "  (Right)\n",
      "SFFF\n",
      "FHFH\n",
      "FFFH\n",
      "H\u001b[41mF\u001b[0mFG\n",
      "  (Left)\n",
      "SFFF\n",
      "FHFH\n",
      "FFFH\n",
      "HF\u001b[41mF\u001b[0mG\n",
      "  (Up)\n",
      "SFFF\n",
      "FHFH\n",
      "FFFH\n",
      "HFF\u001b[41mG\u001b[0m\n",
      "  (Right)\n",
      "0.3\n"
     ]
    }
   ],
   "source": [
    "#Viewing the sim\n",
    "envName = \"FrozenLake-v0\"\n",
    "env = gym.make(envName)\n",
    "ql = Qlearner(env)\n",
    "ql.fromFile(envName)\n",
    "print(\"Loaded\")\n",
    "\n",
    "testItters = 1\n",
    "for i in range(testItters):\n",
    "    ql.env.reset()\n",
    "    done = False\n",
    "    while not done:\n",
    "        rew, done = ql.exploit(1.0)\n",
    "        ql.env.render()\n",
    "        \n",
    "print(ql.score/ testItters)"
   ]
  },
  {
   "cell_type": "code",
   "execution_count": null,
   "metadata": {
    "collapsed": false
   },
   "outputs": [],
   "source": [
    "%matplotlib inline\n",
    "\n",
    "step = 0.1\n",
    "x = [0]\n",
    "y = [0]\n",
    "\n",
    "while True:\n",
    "    x.append(x[-1]+step) \n",
    "    y.append(math.sqrt(x[-1]))\n",
    "    plt.plot(pd.Series(data= y, index=x))\n",
    "    display.display(plt.gcf())\n",
    "    plt.clf() #removes old line, maintains color\n",
    "    display.clear_output(wait=True)\n",
    "    time.sleep(1)"
   ]
  },
  {
   "cell_type": "code",
   "execution_count": null,
   "metadata": {
    "collapsed": false
   },
   "outputs": [],
   "source": [
    "env = gym.make(envName)\n",
    "ql = Qlearner(env)\n",
    "ql.fromFile(envName)\n",
    "ql.visualize()\n",
    "print(\"\\nOLD\")\n",
    "print(\"\"\"v>v<\n",
    "vvvv\n",
    ">vvv\n",
    "v>>v\"\"\")"
   ]
  },
  {
   "cell_type": "code",
   "execution_count": null,
   "metadata": {
    "collapsed": true
   },
   "outputs": [],
   "source": []
  }
 ],
 "metadata": {
  "kernelspec": {
   "display_name": "Python 2",
   "language": "python",
   "name": "python2"
  },
  "language_info": {
   "codemirror_mode": {
    "name": "ipython",
    "version": 2
   },
   "file_extension": ".py",
   "mimetype": "text/x-python",
   "name": "python",
   "nbconvert_exporter": "python",
   "pygments_lexer": "ipython2",
   "version": "2.7.6"
  }
 },
 "nbformat": 4,
 "nbformat_minor": 0
}
