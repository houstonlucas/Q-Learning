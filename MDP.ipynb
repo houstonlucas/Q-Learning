{
 "cells": [
  {
   "cell_type": "markdown",
   "metadata": {},
   "source": [
    "Markov Decision Process (MDP)\n",
    "===\n",
    "<ul>\n",
    "<li>States</li>\n",
    "</ul>\n",
    "\n",
    "\n",
    "Actions\n",
    "\n",
    "Rewards\n",
    "\n",
    "Probabilities\n",
    "\n",
    "Gamma"
   ]
  },
  {
   "cell_type": "code",
   "execution_count": null,
   "metadata": {
    "collapsed": true
   },
   "outputs": [],
   "source": [
    "import random\n",
    "import numpy as np\n",
    "from numpy.random import choice"
   ]
  },
  {
   "cell_type": "code",
   "execution_count": null,
   "metadata": {
    "collapsed": true
   },
   "outputs": [],
   "source": [
    "def normalizedList(size):\n",
    "    l = [random.random() for i in range(size)]\n",
    "    s = sum(l)\n",
    "    lnorm = [x/s for x in l]\n",
    "    return lnorm"
   ]
  },
  {
   "cell_type": "code",
   "execution_count": null,
   "metadata": {
    "collapsed": true
   },
   "outputs": [],
   "source": [
    "class MDP:\n",
    "    \n",
    "    def __init__(self, numStates, numActions, gamma = 0.9):\n",
    "        self.rewards = { (s,a,sNext) : random.randint(-20,20) \\\n",
    "                            for s in range(numStates) \\\n",
    "                            for a in range(numActions) \\\n",
    "                            for sNext in range(numStates)}\n",
    "        self.probs = [[normalizedList(numStates) \\\n",
    "                       for a in range(numActions)] \\\n",
    "                       for s in range(numStates)]\n",
    "        self.states = range(numStates)\n",
    "        self.state = 0\n",
    "        self.gamma = gamma\n",
    "    \n",
    "    def takeAction(self, action):\n",
    "        sNext = choice( self.states, p = self.probs[self.state][action])\n",
    "        reward = self.rewards[ (self.state, action, sNext) ]\n",
    "        self.state = sNext\n",
    "        return reward"
   ]
  },
  {
   "cell_type": "code",
   "execution_count": null,
   "metadata": {
    "collapsed": false
   },
   "outputs": [],
   "source": [
    "mdp = MDP(2,2)\n",
    "\n",
    "while 1:\n",
    "    action = int(input(\"State: {}\\t Action: \".format(mdp.state)))\n",
    "    reward = mdp.takeAction(action)\n",
    "\n",
    "    print(\"Reward: {}\".format(reward))"
   ]
  },
  {
   "cell_type": "code",
   "execution_count": null,
   "metadata": {
    "collapsed": true
   },
   "outputs": [],
   "source": []
  }
 ],
 "metadata": {
  "kernelspec": {
   "display_name": "Python 3",
   "language": "python",
   "name": "python3"
  },
  "language_info": {
   "codemirror_mode": {
    "name": "ipython",
    "version": 3
   },
   "file_extension": ".py",
   "mimetype": "text/x-python",
   "name": "python",
   "nbconvert_exporter": "python",
   "pygments_lexer": "ipython3",
   "version": "3.4.3"
  }
 },
 "nbformat": 4,
 "nbformat_minor": 0
}
